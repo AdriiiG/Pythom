{
  "nbformat": 4,
  "nbformat_minor": 0,
  "metadata": {
    "colab": {
      "provenance": []
    },
    "kernelspec": {
      "name": "python3",
      "display_name": "Python 3"
    },
    "language_info": {
      "name": "python"
    }
  },
  "cells": [
    {
      "cell_type": "code",
      "source": [
        "import requests\n",
        "\n",
        "def obtener_distancia(ciudad_origen, ciudad_destino):\n",
        "    key = \"GkmthalkTqYEKMo2TkbQuNxguP26dkIs\"  # Reemplazar con tu propia clave de API\n",
        "    url = f\"https://www.mapquestapi.com/directions/v2/route?key={key}&from={ciudad_origen},Chile&to={ciudad_destino},LatinAmerica\"\n",
        "    respuesta = requests.get(url)\n",
        "    datos = respuesta.json()\n",
        "    distancia = datos[\"route\"][\"distance\"] * 1.60934  # Convertir de millas a kilómetros\n",
        "    return distancia\n",
        "\n",
        "def calcular_duracion(distancia):\n",
        "    velocidad_promedio = 80  # Suponer una velocidad promedio de 80 km/h\n",
        "    duracion_en_horas = distancia / velocidad_promedio\n",
        "    duracion_en_minutos = duracion_en_horas * 60\n",
        "    duracion_en_segundos = duracion_en_minutos * 60\n",
        "    return duracion_en_horas, duracion_en_minutos, duracion_en_segundos\n",
        "\n",
        "def imprimir_narrativa(ciudad_origen, ciudad_destino, duracion_horas, duracion_minutos, duracion_segundos):\n",
        "    print(f\"Viaje desde {ciudad_origen} hasta {ciudad_destino}:\")\n",
        "    print(f\"Duración del viaje: {duracion_horas:.1f} horas, {duracion_minutos:.1f} minutos, {duracion_segundos:.1f} segundos.\")\n",
        "\n",
        "# Pedir ciudad de origen y ciudad de destino al usuario\n",
        "while True:\n",
        "    ciudad_origen = input(\"Ciudad de origen: \")\n",
        "    ciudad_destino = input(\"Ciudad de destino: \")\n",
        "\n",
        "    # Obtener la distancia entre las ciudades\n",
        "    distancia = obtener_distancia(ciudad_origen, ciudad_destino)\n",
        "\n",
        "    # Calcular la duración del viaje\n",
        "    duracion_horas, duracion_minutos, duracion_segundos = calcular_duracion(distancia)\n",
        "\n",
        "    # Imprimir la narrativa del viaje\n",
        "    imprimir_narrativa(ciudad_origen, ciudad_destino, duracion_horas, duracion_minutos, duracion_segundos)\n",
        "\n",
        "    respuesta = input(\"Presiona 'S' y Enter para salir, o cualquier otra tecla y Enter para continuar: \")\n",
        "    if respuesta.upper() == \"S\" or respuesta.lower() == \"salida\":\n",
        "        break\n",
        "\n",
        "print(\"S y salida\")\n"
      ],
      "metadata": {
        "colab": {
          "base_uri": "https://localhost:8080/"
        },
        "id": "nfPHDglFN2IY",
        "outputId": "453258a1-7856-446a-d663-a2930022b4ce"
      },
      "execution_count": null,
      "outputs": [
        {
          "output_type": "stream",
          "name": "stdout",
          "text": [
            "Ciudad de origen: coquimbo\n",
            "Ciudad de destino: buenos aires\n",
            "Viaje desde coquimbo hasta buenos aires:\n",
            "Duración del viaje: 20.9 horas, 1252.5 minutos, 75151.3 segundos.\n"
          ]
        }
      ]
    }
  ]
}